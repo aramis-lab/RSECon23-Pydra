{
 "cells": [
  {
   "cell_type": "markdown",
   "id": "216ba488-f950-4947-aee3-ffd9c39008ab",
   "metadata": {
    "editable": true,
    "slideshow": {
     "slide_type": "slide"
    },
    "tags": []
   },
   "source": [
    "# Designing complex, reusable and scalable scientific workflows with Pydra\n",
    "\n",
    "> Ghislain VAILLANT, Inria"
   ]
  },
  {
   "cell_type": "markdown",
   "id": "ae90311d",
   "metadata": {
    "slideshow": {
     "slide_type": "slide"
    }
   },
   "source": [
    "## Motivation\n",
    "\n",
    "> Scientific workflows often require sophisticated analyses that encompass a large **collection of algorithms**. These algorithms are not necessarily designed to **work together** and are written by **different authors**.\n",
    ">\n",
    "> Some may be written in Python, while others might require calling **external programs**. It is common practice to create semi-manual workflows that require the scientists to **handle the files** and **interact with partial results** from algorithms and external tools.\n",
    ">\n",
    "> This approach is conceptually simple and easy to implement, but the resulting workflow is often **time consuming**, **error-prone** and **difficult to share** with others.\n",
    "> \n",
    "> -- <cite>[Pydra's Documentation](https://nipype.github.io/pydra/)</cite>"
   ]
  },
  {
   "cell_type": "markdown",
   "id": "1a1ed594",
   "metadata": {
    "slideshow": {
     "slide_type": "subslide"
    }
   },
   "source": [
    "## Roadmap\n",
    "\n",
    "- Prerequisites\n",
    "- Core components\n",
    "- Advanced features\n",
    "- Case study\n",
    "- Support channels"
   ]
  },
  {
   "cell_type": "markdown",
   "id": "603e2d06",
   "metadata": {
    "slideshow": {
     "slide_type": "slide"
    }
   },
   "source": [
    "## Prerequisites"
   ]
  },
  {
   "cell_type": "markdown",
   "id": "569cc764",
   "metadata": {
    "slideshow": {
     "slide_type": "subslide"
    }
   },
   "source": [
    "- Python 3.8+\n",
    "- Type annotations\n",
    "- Data classes"
   ]
  },
  {
   "cell_type": "markdown",
   "id": "fa2bd1b2",
   "metadata": {
    "slideshow": {
     "slide_type": "subslide"
    }
   },
   "source": [
    "### Installation\n",
    "\n",
    "To install the core package:\n",
    "\n",
    "```shell\n",
    "$ pip install pydra==0.22\n",
    "```\n",
    "\n",
    "To install Pydra task packages, for instance ANTs:\n",
    "\n",
    "```shell\n",
    "$ pip install pydra-ants\n",
    "```"
   ]
  },
  {
   "cell_type": "markdown",
   "id": "5a502db7",
   "metadata": {
    "slideshow": {
     "slide_type": "subslide"
    }
   },
   "source": [
    "### Type annotations\n",
    "\n",
    "- Proposed in [PEP 484](https://peps.python.org/pep-0484/)\n",
    "- Available since Python 3.5\n",
    "- Implemented in syntax and [typing](https://docs.python.org/3/library/typing.html) module\n",
    "- Enhanced by subsequent Python releases"
   ]
  },
  {
   "cell_type": "markdown",
   "id": "77cc2b6c",
   "metadata": {
    "slideshow": {
     "slide_type": "subslide"
    }
   },
   "source": [
    "Standard function definition."
   ]
  },
  {
   "cell_type": "code",
   "execution_count": null,
   "id": "e0757213",
   "metadata": {},
   "outputs": [],
   "source": [
    "def scale(factor, vector):\n",
    "    return [factor * x for x in vector]"
   ]
  },
  {
   "cell_type": "markdown",
   "id": "7f46b9b4",
   "metadata": {
    "slideshow": {
     "slide_type": "fragment"
    }
   },
   "source": [
    "Definition with type annotations."
   ]
  },
  {
   "cell_type": "code",
   "execution_count": null,
   "id": "ceedb99d",
   "metadata": {},
   "outputs": [],
   "source": [
    "from typing import List\n",
    "\n",
    "# Type alias for convenience.\n",
    "Vector = List[float]\n",
    "\n",
    "def scale(factor: float, vector: Vector) -> Vector:\n",
    "    return [factor * x for x in vector]"
   ]
  },
  {
   "cell_type": "markdown",
   "id": "504a9f84",
   "metadata": {
    "slideshow": {
     "slide_type": "subslide"
    }
   },
   "source": [
    "### Data classes\n",
    "\n",
    "- Proposed in [PEP 557](https://peps.python.org/pep-0557/)\n",
    "- Available since Python 3.7\n",
    "- Implemented in [dataclasses](https://docs.python.org/3/library/dataclasses.html) module\n",
    "- Enhanced by third-party libraries such as [attrs](https://www.attrs.org/)"
   ]
  },
  {
   "cell_type": "markdown",
   "id": "8e3e06ff",
   "metadata": {
    "slideshow": {
     "slide_type": "subslide"
    }
   },
   "source": [
    "Simple record definition."
   ]
  },
  {
   "cell_type": "code",
   "execution_count": null,
   "id": "bd9fb377-c668-4bac-9304-c7b1a0b1a9a8",
   "metadata": {
    "editable": true,
    "slideshow": {
     "slide_type": "fragment"
    },
    "tags": []
   },
   "outputs": [],
   "source": [
    "import attrs\n",
    "\n",
    "@attrs.define\n",
    "class GeoPoint:\n",
    "    lat: float\n",
    "    lon: float"
   ]
  },
  {
   "cell_type": "code",
   "execution_count": null,
   "id": "aa1487c2",
   "metadata": {
    "slideshow": {
     "slide_type": "fragment"
    }
   },
   "outputs": [],
   "source": [
    "swansea = GeoPoint(51.62, -3.94)\n",
    "\n",
    "print(swansea)"
   ]
  },
  {
   "cell_type": "markdown",
   "id": "471af07e",
   "metadata": {
    "slideshow": {
     "slide_type": "subslide"
    }
   },
   "source": [
    "Record with custom fields."
   ]
  },
  {
   "cell_type": "code",
   "execution_count": null,
   "id": "d8fe67c0",
   "metadata": {
    "slideshow": {
     "slide_type": "fragment"
    }
   },
   "outputs": [],
   "source": [
    "from attrs import define, field, validators\n",
    "\n",
    "def validate_lat(instance, attribute, value):\n",
    "    if abs(value) > 90:\n",
    "        raise ValueError(\n",
    "            f\"Latitude must be in range (-90, 90), got {value}.\")\n",
    "\n",
    "def validate_lon(instance, attribute, value):\n",
    "    if abs(value) > 180:\n",
    "        raise ValueError(\n",
    "            f\"Longitude must be in range (-180, 180), got {value}.\")\n",
    "\n",
    "@define(kw_only=True)   # Forbid init with posargs.\n",
    "class CustomGeoPoint:\n",
    "    lat: float = field(\n",
    "        validator=[validators.instance_of(float), validate_lat])\n",
    "\n",
    "    lon: float = field(\n",
    "        validator=[validators.instance_of(float), validate_lon])\n",
    "\n",
    "    alt: float = field(\n",
    "        default=0.0, metadata={\"recorded_by\": \"$DEVICE\"})"
   ]
  },
  {
   "cell_type": "code",
   "execution_count": null,
   "id": "0522e312",
   "metadata": {
    "slideshow": {
     "slide_type": "subslide"
    }
   },
   "outputs": [],
   "source": [
    "swansea = CustomGeoPoint(lat=51.62, lon=-3.94)  # Okay!\n",
    "\n",
    "print(swansea)"
   ]
  },
  {
   "cell_type": "code",
   "execution_count": null,
   "id": "0f895222",
   "metadata": {
    "slideshow": {
     "slide_type": "skip"
    }
   },
   "outputs": [],
   "source": [
    "%xmode Minimal"
   ]
  },
  {
   "cell_type": "code",
   "execution_count": null,
   "id": "18667727",
   "metadata": {
    "slideshow": {
     "slide_type": "fragment"
    }
   },
   "outputs": [],
   "source": [
    "swansea = CustomGeoPoint(151.62, -3.94)             # Oops!"
   ]
  },
  {
   "cell_type": "code",
   "execution_count": null,
   "id": "3d196c54",
   "metadata": {
    "slideshow": {
     "slide_type": "fragment"
    }
   },
   "outputs": [],
   "source": [
    "swansea = CustomGeoPoint(lat=151.62, lon=-3.94)     # Oops!"
   ]
  },
  {
   "cell_type": "markdown",
   "id": "6e6c2be0",
   "metadata": {
    "slideshow": {
     "slide_type": "slide"
    }
   },
   "source": [
    "## Core components\n",
    "\n",
    "Tasks, workflows and shell specifications."
   ]
  },
  {
   "cell_type": "markdown",
   "id": "113ee694",
   "metadata": {
    "slideshow": {
     "slide_type": "subslide"
    }
   },
   "source": [
    "### Python tasks"
   ]
  },
  {
   "cell_type": "markdown",
   "id": "77544afa",
   "metadata": {
    "slideshow": {
     "slide_type": "subslide"
    }
   },
   "source": [
    "Defining a function task."
   ]
  },
  {
   "cell_type": "code",
   "execution_count": null,
   "id": "cbb962de",
   "metadata": {},
   "outputs": [],
   "source": [
    "from pathlib import Path\n",
    "from pydra.mark import task\n",
    "\n",
    "# Define a Python task.\n",
    "@task\n",
    "def cwd() -> Path:\n",
    "    return Path.cwd()"
   ]
  },
  {
   "cell_type": "markdown",
   "id": "8b1dfcf4",
   "metadata": {
    "slideshow": {
     "slide_type": "subslide"
    }
   },
   "source": [
    "Running a task."
   ]
  },
  {
   "cell_type": "code",
   "execution_count": null,
   "id": "7eb6e6f6",
   "metadata": {},
   "outputs": [],
   "source": [
    "# Instantiate a task.\n",
    "task = cwd()\n",
    "\n",
    "# Run and get the results.\n",
    "result = task()\n",
    "\n",
    "print(result.output.out)"
   ]
  },
  {
   "cell_type": "markdown",
   "id": "251b109b",
   "metadata": {
    "slideshow": {
     "slide_type": "subslide"
    }
   },
   "source": [
    "### Shell tasks"
   ]
  },
  {
   "cell_type": "markdown",
   "id": "6a8a6e69",
   "metadata": {
    "slideshow": {
     "slide_type": "subslide"
    }
   },
   "source": [
    "Defining a shell command task."
   ]
  },
  {
   "cell_type": "code",
   "execution_count": null,
   "id": "6608d43b",
   "metadata": {},
   "outputs": [],
   "source": [
    "from pydra.engine.task import ShellCommandTask\n",
    "\n",
    "# Define a shell task.\n",
    "class Pwd(ShellCommandTask):\n",
    "    executable = \"pwd\"\n",
    "\n",
    "# Instantiate a task.\n",
    "task = Pwd()\n",
    "\n",
    "# Run and get the results.\n",
    "result = task()\n",
    "\n",
    "print(result.output.stdout)"
   ]
  },
  {
   "cell_type": "markdown",
   "id": "f5a7a66e",
   "metadata": {
    "slideshow": {
     "slide_type": "subslide"
    }
   },
   "source": [
    "Defining input specifications."
   ]
  },
  {
   "cell_type": "code",
   "execution_count": null,
   "id": "7072f223",
   "metadata": {},
   "outputs": [],
   "source": [
    "from attrs import define, field\n",
    "from pydra.engine.specs import ShellSpec, SpecInfo\n",
    "\n",
    "# Define an input specifications.\n",
    "@define(kw_only=True)\n",
    "class InputSpec(ShellSpec):\n",
    "    level: int = field(\n",
    "        metadata={\"help_string\": \"max level\", \"argstr\": \"-L\"}\n",
    "    )\n",
    "    path: str = field(\n",
    "        metadata={\n",
    "            \"help_string\": \"input path\",\n",
    "            \"mandatory\": True,\n",
    "            \"argstr\": \"\",\n",
    "        }\n",
    "    )\n",
    "\n",
    "# Define the shell task.\n",
    "class Tree(ShellCommandTask):\n",
    "    executable = \"tree\"\n",
    "\n",
    "    # Associate the specifications with the task definition.\n",
    "    input_spec = SpecInfo(name=\"Inputs\", bases=(InputSpec,))\n"
   ]
  },
  {
   "cell_type": "markdown",
   "id": "2d7c389e",
   "metadata": {},
   "source": [
    "Testing input specifications."
   ]
  },
  {
   "cell_type": "code",
   "execution_count": null,
   "id": "a69f42af",
   "metadata": {
    "slideshow": {
     "slide_type": "subslide"
    }
   },
   "outputs": [],
   "source": [
    "from pathlib import Path\n",
    "\n",
    "# Instantiate a task.\n",
    "task = Tree(path=Path.cwd(), level=1)\n",
    "\n",
    "# Check the shell command.\n",
    "print(task.cmdline)"
   ]
  },
  {
   "cell_type": "markdown",
   "id": "9b779b3b",
   "metadata": {
    "slideshow": {
     "slide_type": "subslide"
    }
   },
   "source": [
    "Output specifications."
   ]
  },
  {
   "cell_type": "code",
   "execution_count": null,
   "id": "56ab970e",
   "metadata": {},
   "outputs": [],
   "source": []
  },
  {
   "cell_type": "markdown",
   "id": "7719359e",
   "metadata": {
    "slideshow": {
     "slide_type": "subslide"
    }
   },
   "source": [
    "### Workflows"
   ]
  },
  {
   "cell_type": "markdown",
   "id": "1b3ccb81",
   "metadata": {},
   "source": [
    "Composing tasks in a workflow."
   ]
  },
  {
   "cell_type": "code",
   "execution_count": null,
   "id": "ee519f6e",
   "metadata": {},
   "outputs": [],
   "source": []
  },
  {
   "cell_type": "markdown",
   "id": "610d6b2c",
   "metadata": {},
   "source": [
    "Submitting a workflow for execution."
   ]
  },
  {
   "cell_type": "code",
   "execution_count": null,
   "id": "50315272",
   "metadata": {},
   "outputs": [],
   "source": []
  },
  {
   "cell_type": "markdown",
   "id": "955545f3",
   "metadata": {
    "slideshow": {
     "slide_type": "subslide"
    }
   },
   "source": [
    "### Shell specifications"
   ]
  },
  {
   "cell_type": "markdown",
   "id": "dc02c50f",
   "metadata": {},
   "source": [
    "Mutually exclusive parameters with `xor`."
   ]
  },
  {
   "cell_type": "code",
   "execution_count": null,
   "id": "c504cdf6",
   "metadata": {},
   "outputs": [],
   "source": []
  },
  {
   "cell_type": "markdown",
   "id": "ebd118b2",
   "metadata": {},
   "source": [
    "Dependent parameters with `requires`."
   ]
  },
  {
   "cell_type": "code",
   "execution_count": null,
   "id": "bb397c41",
   "metadata": {},
   "outputs": [],
   "source": []
  },
  {
   "cell_type": "markdown",
   "id": "b4d546da",
   "metadata": {},
   "source": [
    "Custom formatting with `formatter`."
   ]
  },
  {
   "cell_type": "code",
   "execution_count": null,
   "id": "6bdc7f4b",
   "metadata": {},
   "outputs": [],
   "source": []
  },
  {
   "cell_type": "markdown",
   "id": "214eb688",
   "metadata": {
    "slideshow": {
     "slide_type": "slide"
    }
   },
   "source": [
    "## Complex workflows\n",
    "\n",
    "Container tasks, map-reduce semantics and nested workflows."
   ]
  },
  {
   "cell_type": "markdown",
   "id": "06e2a17b",
   "metadata": {
    "slideshow": {
     "slide_type": "slide"
    }
   },
   "source": [
    "## Advanced features\n",
    "\n",
    "Workflow submission and customization options."
   ]
  },
  {
   "cell_type": "markdown",
   "id": "78c85c35",
   "metadata": {},
   "source": [
    "Submission strategies."
   ]
  },
  {
   "cell_type": "markdown",
   "id": "d58bccd8",
   "metadata": {},
   "source": [
    "Global caching."
   ]
  },
  {
   "cell_type": "markdown",
   "id": "982104e7",
   "metadata": {
    "slideshow": {
     "slide_type": "slide"
    }
   },
   "source": [
    "## Case study\n",
    "\n",
    "A realistic example from the neuroimaging community."
   ]
  },
  {
   "cell_type": "markdown",
   "id": "c1fd3bcb",
   "metadata": {
    "slideshow": {
     "slide_type": "slide"
    }
   },
   "source": [
    "## Support channels\n",
    "\n",
    "- Documentation: `https://nipype.github.io/pydra`\n",
    "- Issues: `https://github.com/nipype/pydra/issues`\n",
    "- Discussions: `https://github.com/nipype/pydra/discussions`\n",
    "- Live chat: `https://mattermost.brainhack.org/brainhack/channels/nipype`\n",
    "- Cohacking: `https://meet.jit.si/pydra`"
   ]
  },
  {
   "cell_type": "markdown",
   "id": "d1035858",
   "metadata": {
    "slideshow": {
     "slide_type": "subslide"
    }
   },
   "source": [
    "### Tutorial\n",
    "\n",
    "![The Pydra tutorial homepage](./assets/pydra-tutorial.png)\n",
    "\n",
    "> https://nipype.github.io/pydra-tutorial"
   ]
  },
  {
   "cell_type": "markdown",
   "id": "482b20be",
   "metadata": {
    "slideshow": {
     "slide_type": "subslide"
    }
   },
   "source": [
    "### Q&A\n",
    "\n",
    "![The NeuroStars homepage](./assets/neurostars-homepage.png)\n",
    "\n",
    "> https://neurostars.org"
   ]
  },
  {
   "cell_type": "markdown",
   "id": "d70a9da2",
   "metadata": {
    "slideshow": {
     "slide_type": "subslide"
    }
   },
   "source": [
    "### Pydra task packages\n",
    "\n",
    "![Pydra task packages on PyPI](./assets/pypi-packages.png)\n",
    "\n",
    "> https://pypi.org/search/?q=pydra"
   ]
  },
  {
   "cell_type": "markdown",
   "id": "7fec457c",
   "metadata": {},
   "source": [
    "### Summary"
   ]
  },
  {
   "cell_type": "markdown",
   "id": "5d4d8267",
   "metadata": {},
   "source": []
  }
 ],
 "metadata": {
  "kernelspec": {
   "display_name": "Python 3 (ipykernel)",
   "language": "python",
   "name": "python3"
  },
  "language_info": {
   "codemirror_mode": {
    "name": "ipython",
    "version": 3
   },
   "file_extension": ".py",
   "mimetype": "text/x-python",
   "name": "python",
   "nbconvert_exporter": "python",
   "pygments_lexer": "ipython3",
   "version": "3.11.5"
  }
 },
 "nbformat": 4,
 "nbformat_minor": 5
}
