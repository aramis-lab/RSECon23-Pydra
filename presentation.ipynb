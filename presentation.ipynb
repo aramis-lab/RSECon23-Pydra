{
 "cells": [
  {
   "cell_type": "markdown",
   "id": "216ba488-f950-4947-aee3-ffd9c39008ab",
   "metadata": {
    "editable": true,
    "slideshow": {
     "slide_type": "slide"
    },
    "tags": []
   },
   "source": [
    "# Designing complex, reusable and scalable scientific workflows with Pydra\n",
    "\n",
    "> Ghislain VAILLANT, Inria"
   ]
  },
  {
   "cell_type": "markdown",
   "id": "603e2d06",
   "metadata": {
    "slideshow": {
     "slide_type": "slide"
    }
   },
   "source": [
    "## Prerequisites"
   ]
  },
  {
   "cell_type": "markdown",
   "id": "569cc764",
   "metadata": {
    "slideshow": {
     "slide_type": "subslide"
    }
   },
   "source": [
    "- Python 3.8+\n",
    "- Type annotations\n",
    "- Data classes"
   ]
  },
  {
   "cell_type": "markdown",
   "id": "5a502db7",
   "metadata": {
    "slideshow": {
     "slide_type": "subslide"
    }
   },
   "source": [
    "### Type annotations\n",
    "\n",
    "- Proposed in [PEP 484](https://peps.python.org/pep-0484/)\n",
    "- Implemented since Python 3.5 in syntax and [typing](https://docs.python.org/3/library/typing.html) module\n",
    "- Enhanced by subsequent Python releases"
   ]
  },
  {
   "cell_type": "markdown",
   "id": "77cc2b6c",
   "metadata": {
    "slideshow": {
     "slide_type": "subslide"
    }
   },
   "source": [
    "Standard function definition."
   ]
  },
  {
   "cell_type": "code",
   "execution_count": null,
   "id": "e0757213",
   "metadata": {},
   "outputs": [],
   "source": [
    "def scale(factor, vector):\n",
    "    return [factor * x for x in vector]"
   ]
  },
  {
   "cell_type": "markdown",
   "id": "7f46b9b4",
   "metadata": {
    "slideshow": {
     "slide_type": "fragment"
    }
   },
   "source": [
    "Definition with type annotations."
   ]
  },
  {
   "cell_type": "code",
   "execution_count": null,
   "id": "ceedb99d",
   "metadata": {},
   "outputs": [],
   "source": [
    "from typing import List\n",
    "\n",
    "# Type alias for convenience.\n",
    "Vector = List[float]\n",
    "\n",
    "def scale(factor: float, vector: Vector) -> Vector:\n",
    "    return [factor * x for x in vector]"
   ]
  },
  {
   "cell_type": "markdown",
   "id": "504a9f84",
   "metadata": {
    "slideshow": {
     "slide_type": "subslide"
    }
   },
   "source": [
    "### Data classes\n",
    "\n",
    "- Proposed in [PEP 557](https://peps.python.org/pep-0557/)\n",
    "- Implemented since Python 3.7 in [dataclasses](https://docs.python.org/3/library/dataclasses.html) module\n",
    "- Enhanced by third-party libraries such as [attrs](https://www.attrs.org/)"
   ]
  },
  {
   "cell_type": "markdown",
   "id": "8e3e06ff",
   "metadata": {
    "slideshow": {
     "slide_type": "subslide"
    }
   },
   "source": [
    "Simple record definition."
   ]
  },
  {
   "cell_type": "code",
   "execution_count": 24,
   "id": "bd9fb377-c668-4bac-9304-c7b1a0b1a9a8",
   "metadata": {
    "editable": true,
    "slideshow": {
     "slide_type": "fragment"
    },
    "tags": []
   },
   "outputs": [],
   "source": [
    "import attrs\n",
    "\n",
    "@attrs.define\n",
    "class GeoPoint:\n",
    "    lat: float\n",
    "    lon: float"
   ]
  },
  {
   "cell_type": "code",
   "execution_count": 25,
   "id": "aa1487c2",
   "metadata": {
    "slideshow": {
     "slide_type": "fragment"
    }
   },
   "outputs": [
    {
     "name": "stdout",
     "output_type": "stream",
     "text": [
      "GeoPoint(lat=51.62, lon=-3.94)\n"
     ]
    }
   ],
   "source": [
    "swansea = GeoPoint(51.62, -3.94)\n",
    "\n",
    "print(swansea)"
   ]
  },
  {
   "cell_type": "markdown",
   "id": "471af07e",
   "metadata": {
    "slideshow": {
     "slide_type": "subslide"
    }
   },
   "source": [
    "Record with custom fields."
   ]
  },
  {
   "cell_type": "code",
   "execution_count": 1,
   "id": "d8fe67c0",
   "metadata": {
    "slideshow": {
     "slide_type": "fragment"
    }
   },
   "outputs": [],
   "source": [
    "from attrs import define, field, validators\n",
    "\n",
    "def validate_lat(instance, attribute, value):\n",
    "    if abs(value) > 90:\n",
    "        raise ValueError(\n",
    "            f\"Latitude must be in range (-90, 90), got {value}.\")\n",
    "\n",
    "def validate_lon(instance, attribute, value):\n",
    "    if abs(value) > 180:\n",
    "        raise ValueError(\n",
    "            f\"Longitude must be in range (-180, 180), got {value}.\")\n",
    "\n",
    "@define(kw_only=True)   # Forbid init with posargs.\n",
    "class CustomGeoPoint:\n",
    "    lat: float = field(\n",
    "        validator=[validators.instance_of(float), validate_lat])\n",
    "\n",
    "    lon: float = field(\n",
    "        validator=[validators.instance_of(float), validate_lon])\n",
    "\n",
    "    alt: float = field(\n",
    "        default=0.0, metadata={\"recorded_by\": \"$DEVICE\"})"
   ]
  },
  {
   "cell_type": "code",
   "execution_count": 2,
   "id": "0522e312",
   "metadata": {
    "slideshow": {
     "slide_type": "subslide"
    }
   },
   "outputs": [
    {
     "name": "stdout",
     "output_type": "stream",
     "text": [
      "CustomGeoPoint(lat=51.62, lon=-3.94, alt=0.0)\n"
     ]
    }
   ],
   "source": [
    "swansea = CustomGeoPoint(lat=51.62, lon=-3.94)  # Okay!\n",
    "\n",
    "print(swansea)"
   ]
  },
  {
   "cell_type": "code",
   "execution_count": 3,
   "id": "0f895222",
   "metadata": {
    "slideshow": {
     "slide_type": "skip"
    }
   },
   "outputs": [
    {
     "name": "stdout",
     "output_type": "stream",
     "text": [
      "Exception reporting mode: Minimal\n"
     ]
    }
   ],
   "source": [
    "%xmode Minimal"
   ]
  },
  {
   "cell_type": "code",
   "execution_count": 5,
   "id": "18667727",
   "metadata": {
    "slideshow": {
     "slide_type": "fragment"
    }
   },
   "outputs": [
    {
     "ename": "TypeError",
     "evalue": "CustomGeoPoint.__init__() takes 1 positional argument but 3 were given",
     "output_type": "error",
     "traceback": [
      "\u001b[0;31mTypeError\u001b[0m\u001b[0;31m:\u001b[0m CustomGeoPoint.__init__() takes 1 positional argument but 3 were given\n"
     ]
    }
   ],
   "source": [
    "swansea = CustomGeoPoint(151.62, -3.94)             # Oops!"
   ]
  },
  {
   "cell_type": "code",
   "execution_count": 6,
   "id": "3d196c54",
   "metadata": {
    "slideshow": {
     "slide_type": "fragment"
    }
   },
   "outputs": [
    {
     "ename": "ValueError",
     "evalue": "Latitude must be in range (-90, 90), got 151.62.",
     "output_type": "error",
     "traceback": [
      "\u001b[0;31mValueError\u001b[0m\u001b[0;31m:\u001b[0m Latitude must be in range (-90, 90), got 151.62.\n"
     ]
    }
   ],
   "source": [
    "swansea = CustomGeoPoint(lat=151.62, lon=-3.94)     # Oops!"
   ]
  },
  {
   "cell_type": "markdown",
   "id": "6e6c2be0",
   "metadata": {
    "slideshow": {
     "slide_type": "slide"
    }
   },
   "source": [
    "## Core components\n",
    "\n",
    "Tasks, workflows and specifications."
   ]
  },
  {
   "cell_type": "markdown",
   "id": "214eb688",
   "metadata": {
    "slideshow": {
     "slide_type": "slide"
    }
   },
   "source": [
    "## Complex workflows\n",
    "\n",
    "Heterogeneous tasks, map-reduce semantics and nested workflows."
   ]
  },
  {
   "cell_type": "markdown",
   "id": "06e2a17b",
   "metadata": {
    "slideshow": {
     "slide_type": "slide"
    }
   },
   "source": [
    "## Advanced features\n",
    "\n",
    "Execution strategies and workflow customization options."
   ]
  },
  {
   "cell_type": "markdown",
   "id": "c1fd3bcb",
   "metadata": {},
   "source": [
    "## Support channels"
   ]
  },
  {
   "cell_type": "markdown",
   "id": "65302a17",
   "metadata": {},
   "source": []
  }
 ],
 "metadata": {
  "kernelspec": {
   "display_name": "Python 3 (ipykernel)",
   "language": "python",
   "name": "python3"
  },
  "language_info": {
   "codemirror_mode": {
    "name": "ipython",
    "version": 3
   },
   "file_extension": ".py",
   "mimetype": "text/x-python",
   "name": "python",
   "nbconvert_exporter": "python",
   "pygments_lexer": "ipython3",
   "version": "3.11.4"
  }
 },
 "nbformat": 4,
 "nbformat_minor": 5
}
